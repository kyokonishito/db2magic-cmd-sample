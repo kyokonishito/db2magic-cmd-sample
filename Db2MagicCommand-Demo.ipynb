{
 "cells": [
  {
   "cell_type": "markdown",
   "metadata": {
    "collapsed": true
   },
   "source": [
    "# Db2 Jupyter Notebook Extensions\n",
    "# - Db2 %sql magic コマンド -\n",
    "\n",
    "https://github.com/IBM/db2-jupyter"
   ]
  },
  {
   "cell_type": "markdown",
   "metadata": {},
   "source": [
    "## 1. 事前準備 \n",
    "### 1.1. まずは**Db2 %sql magic コマンド**のモジュールをダウンロードします。"
   ]
  },
  {
   "cell_type": "code",
   "execution_count": null,
   "metadata": {},
   "outputs": [],
   "source": [
    "!wget https://raw.githubusercontent.com/IBM/db2-jupyter/master/db2.ipynb"
   ]
  },
  {
   "cell_type": "markdown",
   "metadata": {},
   "source": [
    "### 1.2. ダウンロードした`db2.ipynb`を実行します。"
   ]
  },
  {
   "cell_type": "code",
   "execution_count": null,
   "metadata": {},
   "outputs": [],
   "source": [
    "%run db2.ipynb"
   ]
  },
  {
   "cell_type": "markdown",
   "metadata": {},
   "source": [
    "### 1.3. 不足しているライブラリqgrid を導入します。"
   ]
  },
  {
   "cell_type": "code",
   "execution_count": null,
   "metadata": {},
   "outputs": [],
   "source": [
    "%pip install qgrid"
   ]
  },
  {
   "cell_type": "markdown",
   "metadata": {},
   "source": [
    "本日使用するデータのCSVを取得"
   ]
  },
  {
   "cell_type": "code",
   "execution_count": null,
   "metadata": {},
   "outputs": [],
   "source": [
    "!wget https://covid19.mhlw.go.jp/public/opendata/newly_confirmed_cases_daily.csv\n",
    "import pandas as pd\n",
    "\n",
    "df_all = pd.read_csv('newly_confirmed_cases_daily.csv')\n",
    "display(df_all)\n",
    "    "
   ]
  },
  {
   "cell_type": "markdown",
   "metadata": {},
   "source": [
    "## 2. Db2 on cloudの情報をセット\n",
    "### 2.1. Db2 on Cloudのサービス資格情報をコピペし、実行します。"
   ]
  },
  {
   "cell_type": "code",
   "execution_count": null,
   "metadata": {},
   "outputs": [],
   "source": [
    "# @hidden_cell\n",
    "#service_credencials = <ここにコピペ>\n",
    "service_credencials = "
   ]
  },
  {
   "cell_type": "markdown",
   "metadata": {},
   "source": [
    "### 2.1 必要なパラメータをセット\n",
    "Db2 on Cloudのサービス資格情報から取らずに、直接値を入れてもOKです。\n",
    "\n",
    "- databese: データベース名\n",
    "- user: ユーザー名\n",
    "- password: パスワード\n",
    "- host: ホスト名　または　IPアドレス\n",
    "- port: ポート番号"
   ]
  },
  {
   "cell_type": "code",
   "execution_count": null,
   "metadata": {},
   "outputs": [],
   "source": [
    "databese = service_credencials[\"connection\"][\"db2\"][\"database\"]\n",
    "user = service_credencials[\"connection\"][\"db2\"][\"authentication\"][\"username\"]\n",
    "password = service_credencials[\"connection\"][\"db2\"][\"authentication\"][\"password\"]\n",
    "host =  service_credencials[\"connection\"][\"db2\"][\"hosts\"][0][\"hostname\"]\n",
    "port =  service_credencials[\"connection\"][\"db2\"][\"hosts\"][0][\"port\"]"
   ]
  },
  {
   "cell_type": "markdown",
   "metadata": {},
   "source": [
    "# 3. Db2 %sql Magic コマンドを使ってみる\n",
    "\n",
    "以下が終わっていることが前提です。\n",
    "\n",
    "- 1.事前準備\n",
    "- 2.Db2 on cloudの情報をセット"
   ]
  },
  {
   "cell_type": "markdown",
   "metadata": {},
   "source": [
    "## Magic コマンド\n",
    "Jupyterには、Pythonコードや特別なアクションを代行して実行できる一連のMagicコマンドが用意されています。\n",
    "例えば、%systemはシステムコマンドを発行します。\n",
    "\n",
    "\n",
    "`%run db2.ipynb`コマンドは、**db2.ipynb**ファイルの内容を読み込み、新しい **%sql**と **%%sql**コマンドを作成します。\n",
    "\n",
    "```\n",
    "%run db2.ipynb\n",
    "```\n",
    "\n",
    "\n",
    "### 基本\n",
    "\n",
    "\n",
    "`%sql` コマンドは一行コマンドに使用され、`%%sql` は SQL のブロック(複数のSQL)を実行します。\n",
    "\n",
    "`%sql` コマンドの結果のみ変数に代入できます。\n",
    "\n",
    "pythonの変数を`%sql`コマンドに渡すには，{}の中括弧で変数名を挟みます。\n",
    "\n",
    "単一の %sql コマンドは、行末にバックスラッシュ`\\`を使用して複数行に記載できます。\n",
    "\n",
    "`%%sql` ブロック内の複数のステートメントでは、セミコロン`;`をデリミタとして使用します。"
   ]
  },
  {
   "cell_type": "markdown",
   "metadata": {},
   "source": [
    "## 3.1 Db2 に接続\n",
    "- SSL接続の場合は最後にSSLをつけます"
   ]
  },
  {
   "cell_type": "code",
   "execution_count": null,
   "metadata": {},
   "outputs": [],
   "source": [
    "%sql CONNECT TO {databese} USER {user} USING {password} HOST {host} port {port} SSL"
   ]
  },
  {
   "cell_type": "markdown",
   "metadata": {},
   "source": [
    "## 3.2 sample db作成 \n",
    "`db2.ipynb`の機能です。\n",
    "Sample tables [EMPLOYEE, DEPARTMENT]を作成します。"
   ]
  },
  {
   "cell_type": "code",
   "execution_count": null,
   "metadata": {},
   "outputs": [],
   "source": [
    "%sql -sampledata"
   ]
  },
  {
   "cell_type": "markdown",
   "metadata": {},
   "source": [
    "## 3.2 table一覧取得"
   ]
  },
  {
   "cell_type": "code",
   "execution_count": null,
   "metadata": {},
   "outputs": [],
   "source": [
    "%sql list tables"
   ]
  },
  {
   "cell_type": "markdown",
   "metadata": {},
   "source": [
    "## 3.3 table情報取得\n",
    "- `-grid` スクロール可能なグリッドで結果を表示"
   ]
  },
  {
   "cell_type": "code",
   "execution_count": null,
   "metadata": {
    "scrolled": true
   },
   "outputs": [],
   "source": [
    "%sql -grid DESCRIBE TABLE EMPLOYEE\n",
    "%sql -grid DESCRIBE TABLE DEPARTMENT"
   ]
  },
  {
   "cell_type": "code",
   "execution_count": null,
   "metadata": {},
   "outputs": [],
   "source": [
    "%sql select count(EMPNO) FROM EMPLOYEE"
   ]
  },
  {
   "cell_type": "code",
   "execution_count": null,
   "metadata": {},
   "outputs": [],
   "source": [
    "%sql -grid select * FROM EMPLOYEE"
   ]
  },
  {
   "cell_type": "code",
   "execution_count": null,
   "metadata": {},
   "outputs": [],
   "source": [
    "%sql using df_all create table COVID19_NEW with data"
   ]
  },
  {
   "cell_type": "code",
   "execution_count": null,
   "metadata": {},
   "outputs": [],
   "source": [
    "%pwd"
   ]
  },
  {
   "cell_type": "code",
   "execution_count": null,
   "metadata": {},
   "outputs": [],
   "source": [
    "%lsmagic"
   ]
  }
 ],
 "metadata": {
  "kernelspec": {
   "display_name": "Python 3.8",
   "language": "python",
   "name": "python3"
  },
  "language_info": {
   "codemirror_mode": {
    "name": "ipython",
    "version": 3
   },
   "file_extension": ".py",
   "mimetype": "text/x-python",
   "name": "python",
   "nbconvert_exporter": "python",
   "pygments_lexer": "ipython3",
   "version": "3.8.12"
  }
 },
 "nbformat": 4,
 "nbformat_minor": 1
}
